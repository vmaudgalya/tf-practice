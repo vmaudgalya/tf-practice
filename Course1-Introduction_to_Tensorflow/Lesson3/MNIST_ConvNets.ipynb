{
 "cells": [
  {
   "cell_type": "markdown",
   "metadata": {
    "colab_type": "text",
    "id": "iQjHqsmTAVLU"
   },
   "source": [
    "## Exercise 3\n",
    "In the videos you looked at how you would improve Fashion MNIST using Convolutions. For your exercise see if you can improve MNIST to 99.8% accuracy or more using only a single convolutional layer and a single MaxPooling 2D. You should stop training once the accuracy goes above this amount. It should happen in less than 20 epochs, so it's ok to hard code the number of epochs for training, but your training must end once it hits the above metric. If it doesn't, then you'll need to redesign your layers.\n",
    "\n",
    "I've started the code for you -- you need to finish it!\n",
    "\n",
    "When 99.8% accuracy has been hit, you should print out the string \"Reached 99.8% accuracy so cancelling training!\"\n"
   ]
  },
  {
   "cell_type": "code",
   "execution_count": 1,
   "metadata": {},
   "outputs": [
    {
     "name": "stderr",
     "output_type": "stream",
     "text": [
      "/Users/vmaudgalya/anaconda3/envs/dtx/lib/python3.6/site-packages/h5py/__init__.py:36: FutureWarning: Conversion of the second argument of issubdtype from `float` to `np.floating` is deprecated. In future, it will be treated as `np.float64 == np.dtype(float).type`.\n",
      "  from ._conv import register_converters as _register_converters\n"
     ]
    },
    {
     "name": "stdout",
     "output_type": "stream",
     "text": [
      "1.13.1\n"
     ]
    }
   ],
   "source": [
    "import tensorflow as tf\n",
    "from tensorflow.keras.models import Sequential\n",
    "from tensorflow.keras.layers import Conv2D, MaxPool2D, Dense, Flatten\n",
    "import numpy as np\n",
    "import matplotlib.pyplot as plt\n",
    "print(tf.__version__)"
   ]
  },
  {
   "cell_type": "code",
   "execution_count": 2,
   "metadata": {},
   "outputs": [],
   "source": [
    "# Read the data\n",
    "mnist = tf.keras.datasets.mnist\n",
    "(training_images, training_labels), (test_images, test_labels) = mnist.load_data()"
   ]
  },
  {
   "cell_type": "code",
   "execution_count": 3,
   "metadata": {},
   "outputs": [
    {
     "name": "stdout",
     "output_type": "stream",
     "text": [
      "Training images shape = (60000, 28, 28)\n",
      "Training labels shape = (60000,)\n",
      "Test images shape = (10000, 28, 28)\n",
      "Test labels shape = (10000,)\n"
     ]
    }
   ],
   "source": [
    "print(f'Training images shape = {training_images.shape}')\n",
    "print(f'Training labels shape = {training_labels.shape}')\n",
    "print(f'Test images shape = {test_images.shape}')\n",
    "print(f'Test labels shape = {test_labels.shape}')"
   ]
  },
  {
   "cell_type": "code",
   "execution_count": 4,
   "metadata": {},
   "outputs": [
    {
     "name": "stdout",
     "output_type": "stream",
     "text": [
      "Number of classes = 10\n"
     ]
    }
   ],
   "source": [
    "print(f'Number of classes = {np.unique(training_labels).size}')"
   ]
  },
  {
   "cell_type": "code",
   "execution_count": 5,
   "metadata": {},
   "outputs": [],
   "source": [
    "# Reshape the data for Keras\n",
    "training_images = training_images.reshape(60000, 28, 28, 1)\n",
    "test_images = test_images.reshape(10000, 28, 28, 1)\n",
    "\n",
    "# Normalize the data\n",
    "training_images = training_images / 255.0\n",
    "test_images = test_images / 255.0"
   ]
  },
  {
   "cell_type": "code",
   "execution_count": 6,
   "metadata": {
    "colab": {},
    "colab_type": "code",
    "id": "sfQRyaJWAIdg"
   },
   "outputs": [
    {
     "name": "stdout",
     "output_type": "stream",
     "text": [
      "WARNING:tensorflow:From /Users/vmaudgalya/anaconda3/envs/dtx/lib/python3.6/site-packages/tensorflow/python/ops/resource_variable_ops.py:435: colocate_with (from tensorflow.python.framework.ops) is deprecated and will be removed in a future version.\n",
      "Instructions for updating:\n",
      "Colocations handled automatically by placer.\n",
      "_________________________________________________________________\n",
      "Layer (type)                 Output Shape              Param #   \n",
      "=================================================================\n",
      "conv2d (Conv2D)              (None, 26, 26, 16)        160       \n",
      "_________________________________________________________________\n",
      "max_pooling2d (MaxPooling2D) (None, 13, 13, 16)        0         \n",
      "_________________________________________________________________\n",
      "flatten (Flatten)            (None, 2704)              0         \n",
      "_________________________________________________________________\n",
      "dense (Dense)                (None, 128)               346240    \n",
      "_________________________________________________________________\n",
      "dense_1 (Dense)              (None, 10)                1290      \n",
      "=================================================================\n",
      "Total params: 347,690\n",
      "Trainable params: 347,690\n",
      "Non-trainable params: 0\n",
      "_________________________________________________________________\n",
      "Epoch 1/20\n",
      "60000/60000 [==============================] - 18s 301us/sample - loss: 0.1641 - acc: 0.9517\n",
      "Epoch 2/20\n",
      "60000/60000 [==============================] - 19s 309us/sample - loss: 0.0549 - acc: 0.9833\n",
      "Epoch 3/20\n",
      "60000/60000 [==============================] - 20s 326us/sample - loss: 0.0353 - acc: 0.9890\n",
      "Epoch 4/20\n",
      "60000/60000 [==============================] - 19s 322us/sample - loss: 0.0236 - acc: 0.9928\n",
      "Epoch 5/20\n",
      "60000/60000 [==============================] - 19s 317us/sample - loss: 0.0165 - acc: 0.9948\n",
      "Epoch 6/20\n",
      "60000/60000 [==============================] - 19s 316us/sample - loss: 0.0119 - acc: 0.9961\n",
      "Epoch 7/20\n",
      "60000/60000 [==============================] - 19s 317us/sample - loss: 0.0091 - acc: 0.9971\n",
      "Epoch 8/20\n",
      "60000/60000 [==============================] - 19s 318us/sample - loss: 0.0067 - acc: 0.9977\n",
      "Epoch 9/20\n",
      "59904/60000 [============================>.] - ETA: 0s - loss: 0.0058 - acc: 0.9982\n",
      "Reached 0.9981833100318909% accuracy so cancelling training!\n",
      "\n",
      "60000/60000 [==============================] - 19s 321us/sample - loss: 0.0058 - acc: 0.9982\n"
     ]
    }
   ],
   "source": [
    "# Define the model\n",
    "model = Sequential()\n",
    "model.add(Conv2D(filters=16, kernel_size=3, activation='relu', input_shape=(28, 28, 1)))\n",
    "model.add(MaxPool2D(pool_size=2))\n",
    "model.add(Flatten())\n",
    "model.add(Dense(units=128, activation='relu'))\n",
    "model.add(Dense(units=10, activation='softmax'))\n",
    "model.summary()\n",
    "\n",
    "# Compile the model\n",
    "model.compile(optimizer='adam', loss='sparse_categorical_crossentropy', metrics=['accuracy'])\n",
    "\n",
    "# Define a callback for stopping training early\n",
    "class EarlyStoppingCallback(tf.keras.callbacks.Callback):\n",
    "    def on_epoch_end(self, epoch, logs={}):\n",
    "        \"\"\"\n",
    "        Called at the end of an epoch.\n",
    "        \n",
    "        Keyword Arguments:\n",
    "        epoch: integer, index of epoch.\n",
    "        logs: dict, metric results for this training epoch, and\n",
    "              for the validation epoch if validation is performed.\n",
    "              Validation result keys are prefixed with val_.\n",
    "        \"\"\"\n",
    "        current_accuracy = logs.get('acc')\n",
    "        if (current_accuracy is not None and current_accuracy >= 0.998):\n",
    "            print(f'\\nReached {current_accuracy}% accuracy so cancelling training!\\n')\n",
    "            self.model.stop_training = True\n",
    "\n",
    "# Initialize the callback            \n",
    "cb = EarlyStoppingCallback()   \n",
    "\n",
    "# Train the model\n",
    "history = model.fit(training_images, training_labels, epochs=20, callbacks=[cb])"
   ]
  },
  {
   "cell_type": "code",
   "execution_count": 7,
   "metadata": {},
   "outputs": [
    {
     "data": {
      "text/plain": [
       "Text(0, 0.5, 'Accuracy')"
      ]
     },
     "execution_count": 7,
     "metadata": {},
     "output_type": "execute_result"
    },
    {
     "data": {
      "image/png": "[encoded data removed]",
      "text/plain": [
       "<Figure size 432x288 with 1 Axes>"
      ]
     },
     "metadata": {},
     "output_type": "display_data"
    }
   ],
   "source": [
    "# Visualize model training\n",
    "plt.plot(history.history['acc'])\n",
    "plt.title('Model Accuracy During Training')\n",
    "plt.xlabel('Epochs')\n",
    "plt.ylabel('Accuracy')"
   ]
  },
  {
   "cell_type": "code",
   "execution_count": 8,
   "metadata": {},
   "outputs": [
    {
     "name": "stdout",
     "output_type": "stream",
     "text": [
      "10000/10000 [==============================] - 1s 110us/sample - loss: 0.0469 - acc: 0.9870\n",
      "loss=0.04692108136293063, accuracy=0.9869999885559082\n"
     ]
    }
   ],
   "source": [
    "# View evaluation accuracy\n",
    "test_loss, test_acc = model.evaluate(test_images, test_labels)\n",
    "print(f'loss={test_loss}, accuracy={test_acc}')"
   ]
  }
 ],
 "metadata": {
  "colab": {
   "collapsed_sections": [],
   "name": "Exercise 3 - Question.ipynb",
   "provenance": [],
   "version": "0.3.2"
  },
  "kernelspec": {
   "display_name": "Python 3",
   "language": "python",
   "name": "python3"
  },
  "language_info": {
   "codemirror_mode": {
    "name": "ipython",
    "version": 3
   },
   "file_extension": ".py",
   "mimetype": "text/x-python",
   "name": "python",
   "nbconvert_exporter": "python",
   "pygments_lexer": "ipython3",
   "version": "3.6.5"
  }
 },
 "nbformat": 4,
 "nbformat_minor": 1
}
