{
 "cells": [
  {
   "cell_type": "markdown",
   "metadata": {
    "colab_type": "text",
    "id": "tOoyQ70H00_s"
   },
   "source": [
    "## Exercise 2\n",
    "In the course you learned how to do classification using Fashion MNIST, a data set containing items of clothing. There's another, similar dataset called MNIST which has items of handwriting -- the digits 0 through 9.\n",
    "\n",
    "Write an MNIST classifier that trains to 99% accuracy or above, and does it without a fixed number of epochs -- i.e. you should stop training once you reach that level of accuracy.\n",
    "\n",
    "Some notes:\n",
    "1. It should succeed in less than 10 epochs, so it is okay to change epochs to 10, but nothing larger\n",
    "2. When it reaches 99% or greater it should print out the string \"Reached 99% accuracy so cancelling training!\"\n",
    "3. If you add any additional variables, make sure you use the same names as the ones used in the class\n",
    "\n",
    "I've started the code for you below -- how would you finish it? "
   ]
  },
  {
   "cell_type": "code",
   "execution_count": 1,
   "metadata": {},
   "outputs": [
    {
     "name": "stderr",
     "output_type": "stream",
     "text": [
      "/Users/vmaudgalya/anaconda3/envs/dtx/lib/python3.6/site-packages/h5py/__init__.py:36: FutureWarning: Conversion of the second argument of issubdtype from `float` to `np.floating` is deprecated. In future, it will be treated as `np.float64 == np.dtype(float).type`.\n",
      "  from ._conv import register_converters as _register_converters\n"
     ]
    },
    {
     "name": "stdout",
     "output_type": "stream",
     "text": [
      "tf version=1.13.1\n"
     ]
    }
   ],
   "source": [
    "import tensorflow as tf\n",
    "import matplotlib.pyplot as plt\n",
    "import numpy as np\n",
    "\n",
    "from tensorflow.keras.models import Sequential\n",
    "from tensorflow.keras.layers import Dense, Flatten\n",
    "print(f'tf version={tf.__version__}')"
   ]
  },
  {
   "cell_type": "code",
   "execution_count": 2,
   "metadata": {
    "colab": {},
    "colab_type": "code",
    "id": "9rvXQGAA0ssC"
   },
   "outputs": [],
   "source": [
    "# Specify the dataset\n",
    "mnist = tf.keras.datasets.mnist\n",
    "\n",
    "# Download the data the data\n",
    "(X_train, y_train), (X_test, y_test) = mnist.load_data()"
   ]
  },
  {
   "cell_type": "code",
   "execution_count": 3,
   "metadata": {},
   "outputs": [
    {
     "name": "stdout",
     "output_type": "stream",
     "text": [
      "Training Data\n",
      "X_train=(60000, 28, 28)\n",
      "y_train=(60000,)\n",
      "Num classes=10\n",
      "\n",
      "Testing Data\n",
      "X_test=(10000, 28, 28)\n",
      "y_test=(10000,)\n",
      "\n",
      "Example shape:\n",
      "(28, 28)\n",
      "\n",
      "Display:\n"
     ]
    },
    {
     "data": {
      "image/png": "[encoded data removed]",
      "text/plain": [
       "<Figure size 360x360 with 20 Axes>"
      ]
     },
     "metadata": {},
     "output_type": "display_data"
    }
   ],
   "source": [
    "# Explore the dataset\n",
    "print('Training Data')\n",
    "print(f'X_train={X_train.shape}')\n",
    "print(f'y_train={y_train.shape}')\n",
    "print(f'Num classes={np.unique(y_train).size}\\n')\n",
    "\n",
    "print('Testing Data')\n",
    "print(f'X_test={X_test.shape}')\n",
    "print(f'y_test={y_test.shape}\\n')\n",
    "\n",
    "index_of_interest = 0\n",
    "print(f'Example shape:\\n{X_train[index_of_interest].shape}\\n')\n",
    "print('Display:')\n",
    "plt.figure(figsize=(5, 5))\n",
    "columns=5\n",
    "num_samples = 20\n",
    "for i, sample in enumerate(X_train[:num_samples]):\n",
    "    plt.subplot(num_samples/columns+1, columns, i+1)\n",
    "    plt.imshow(X_train[i], cmap='gray')\n",
    "#     plt.show()"
   ]
  },
  {
   "cell_type": "code",
   "execution_count": 4,
   "metadata": {},
   "outputs": [],
   "source": [
    "# Preprocess the data\n",
    "X_train = X_train / 255\n",
    "X_test = X_test / 255"
   ]
  },
  {
   "cell_type": "markdown",
   "metadata": {},
   "source": [
    "Source: https://keras.io/losses/#sparse_categorical_crossentropy\n",
    "\n",
    "Note: when using the `categorical_crossentropy` loss, your targets should be in categorical format (e.g. if you have 10 classes, the target for each sample should be a 10-dimensional vector that is all-zeros except for a 1 at the index corresponding to the class of the sample, in other words, one-hot encoded). In order to convert integer targets into categorical targets, you can use the Keras utility to_categorical:\n",
    "\n",
    "```python\n",
    "from keras.utils import to_categorical\n",
    "categorical_labels = to_categorical(int_labels, num_classes=None)\n",
    "```\n",
    "\n",
    "When using the `sparse_categorical_crossentropy` loss, your targets should be integer targets. If you have categorical targets, you should use categorical_crossentropy"
   ]
  },
  {
   "cell_type": "code",
   "execution_count": 5,
   "metadata": {},
   "outputs": [
    {
     "name": "stdout",
     "output_type": "stream",
     "text": [
      "WARNING:tensorflow:From /Users/vmaudgalya/anaconda3/envs/dtx/lib/python3.6/site-packages/tensorflow/python/ops/resource_variable_ops.py:435: colocate_with (from tensorflow.python.framework.ops) is deprecated and will be removed in a future version.\n",
      "Instructions for updating:\n",
      "Colocations handled automatically by placer.\n",
      "_________________________________________________________________\n",
      "Layer (type)                 Output Shape              Param #   \n",
      "=================================================================\n",
      "flatten (Flatten)            (None, 784)               0         \n",
      "_________________________________________________________________\n",
      "dense (Dense)                (None, 128)               100480    \n",
      "_________________________________________________________________\n",
      "dense_1 (Dense)              (None, 10)                1290      \n",
      "=================================================================\n",
      "Total params: 101,770\n",
      "Trainable params: 101,770\n",
      "Non-trainable params: 0\n",
      "_________________________________________________________________\n"
     ]
    }
   ],
   "source": [
    "# Define the model\n",
    "model = Sequential()\n",
    "model.add(Flatten(input_shape=X_train[0].shape))  # Flatten is useful for dynamic input. Prefer numpy in this case\n",
    "model.add(Dense(units=128, activation='relu'))\n",
    "model.add(Dense(units=10, activation='softmax'))\n",
    "model.summary()  # Trainable params: ((28*28*128)+128)+((128*10)+10)\n",
    "\n",
    "# Configure the model\n",
    "model.compile(optimizer='adam',\n",
    "              loss='sparse_categorical_crossentropy',\n",
    "              metrics=['accuracy'])"
   ]
  },
  {
   "cell_type": "code",
   "execution_count": 6,
   "metadata": {},
   "outputs": [
    {
     "name": "stdout",
     "output_type": "stream",
     "text": [
      "Epoch 1/10\n",
      "60000/60000 [==============================] - 11s 176us/sample - loss: 0.2601 - acc: 0.9256\n",
      "Epoch 2/10\n",
      "60000/60000 [==============================] - 11s 186us/sample - loss: 0.1163 - acc: 0.9656\n",
      "Epoch 3/10\n",
      "60000/60000 [==============================] - 13s 214us/sample - loss: 0.0815 - acc: 0.9750\n",
      "Epoch 4/10\n",
      "60000/60000 [==============================] - 12s 208us/sample - loss: 0.0596 - acc: 0.9813\n",
      "Epoch 5/10\n",
      "60000/60000 [==============================] - 12s 199us/sample - loss: 0.0455 - acc: 0.9859\n",
      "Epoch 6/10\n",
      "60000/60000 [==============================] - 12s 193us/sample - loss: 0.0373 - acc: 0.9886\n",
      "Epoch 7/10\n",
      "59808/60000 [============================>.] - ETA: 0s - loss: 0.0293 - acc: 0.9904Reached 0.9904500246047974% accuracy so cancelling training!\n",
      "60000/60000 [==============================] - 12s 198us/sample - loss: 0.0293 - acc: 0.9905\n"
     ]
    }
   ],
   "source": [
    "# Define a callback for stopping training early\n",
    "class EarlyStoppingCallback(tf.keras.callbacks.Callback):\n",
    "    def on_epoch_end(self, epoch, logs={}):\n",
    "        \"\"\"\n",
    "        Called at the end of an epoch.\n",
    "        \n",
    "        Keyword Arguments:\n",
    "        epoch: integer, index of epoch.\n",
    "        logs: dict, metric results for this training epoch, and\n",
    "              for the validation epoch if validation is performed.\n",
    "              Validation result keys are prefixed with val_.\n",
    "        \"\"\"\n",
    "        current_accuracy = logs.get('acc')\n",
    "        if (current_accuracy is not None and current_accuracy >= 0.99):\n",
    "            print(f'Reached {current_accuracy}% accuracy so cancelling training!')\n",
    "            self.model.stop_training = True\n",
    "            \n",
    "# Initialize the callback            \n",
    "cb = EarlyStoppingCallback()\n",
    "\n",
    "# Train the model, using the early stopping callback\n",
    "history = model.fit(X_train, y_train, epochs=10, callbacks=[cb])"
   ]
  },
  {
   "cell_type": "code",
   "execution_count": 7,
   "metadata": {},
   "outputs": [
    {
     "data": {
      "image/png": "[encoded data removed]",
      "text/plain": [
       "<Figure size 432x288 with 1 Axes>"
      ]
     },
     "metadata": {},
     "output_type": "display_data"
    }
   ],
   "source": [
    "# Plot learning curves\n",
    "plt.plot(history.history['acc'])\n",
    "plt.title('Model Accuracy While Training')\n",
    "plt.xlabel('Epochs')\n",
    "plt.ylabel('Accuracy')\n",
    "plt.show()"
   ]
  },
  {
   "cell_type": "code",
   "execution_count": 8,
   "metadata": {},
   "outputs": [
    {
     "name": "stdout",
     "output_type": "stream",
     "text": [
      "10000/10000 [==============================] - 1s 52us/sample - loss: 0.0734 - acc: 0.9770\n"
     ]
    },
    {
     "data": {
      "text/plain": [
       "[0.07343324270590675, 0.977]"
      ]
     },
     "execution_count": 8,
     "metadata": {},
     "output_type": "execute_result"
    }
   ],
   "source": [
    "# Get test accuracy\n",
    "model.evaluate(X_test, y_test)"
   ]
  },
  {
   "cell_type": "code",
   "execution_count": 9,
   "metadata": {},
   "outputs": [
    {
     "data": {
      "text/plain": [
       "<matplotlib.image.AxesImage at 0x7fc758032d30>"
      ]
     },
     "execution_count": 9,
     "metadata": {},
     "output_type": "execute_result"
    },
    {
     "data": {
      "image/png": "[encoded data removed]",
      "text/plain": [
       "<Figure size 432x288 with 1 Axes>"
      ]
     },
     "metadata": {},
     "output_type": "display_data"
    }
   ],
   "source": [
    "plt.imshow(X_test[500], cmap='gray')"
   ]
  },
  {
   "cell_type": "code",
   "execution_count": 10,
   "metadata": {},
   "outputs": [],
   "source": [
    "classifications = model.predict(X_test)"
   ]
  },
  {
   "cell_type": "code",
   "execution_count": 11,
   "metadata": {},
   "outputs": [
    {
     "name": "stdout",
     "output_type": "stream",
     "text": [
      "[2.1297505e-14 1.0313987e-12 9.6555090e-11 1.0000000e+00 5.6728063e-14\n",
      " 3.7153378e-11 8.0574361e-19 5.3826193e-13 7.2370548e-10 3.6555278e-10]\n"
     ]
    }
   ],
   "source": [
    "print(classifications[500])"
   ]
  }
 ],
 "metadata": {
  "colab": {
   "collapsed_sections": [],
   "name": "Exercise2-Question.ipynb",
   "provenance": [],
   "version": "0.3.2"
  },
  "kernelspec": {
   "display_name": "Python 3",
   "language": "python",
   "name": "python3"
  },
  "language_info": {
   "codemirror_mode": {
    "name": "ipython",
    "version": 3
   },
   "file_extension": ".py",
   "mimetype": "text/x-python",
   "name": "python",
   "nbconvert_exporter": "python",
   "pygments_lexer": "ipython3",
   "version": "3.6.5"
  }
 },
 "nbformat": 4,
 "nbformat_minor": 1
}
